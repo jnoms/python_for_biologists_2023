{
 "cells": [
  {
   "attachments": {},
   "cell_type": "markdown",
   "metadata": {},
   "source": [
    "# File opening, reading, writing, etc"
   ]
  },
  {
   "cell_type": "code",
   "execution_count": 14,
   "metadata": {},
   "outputs": [
    {
     "name": "stdout",
     "output_type": "stream",
     "text": [
      "ATCGATCGATCGATCGACTGACTAGTCATAGCTATGCATGTAGCTACTCGATCGATCGATCGATCATCGATCGATATCGATGCATCGACTACTAT\n",
      "ATCGATCGATCGATCGACTGACTAGTCATAGCTATGCATGTAGCTACTCGATCGATCGATCGATCATCGATCGATATCGATGCATCGACTACTAT\n"
     ]
    }
   ],
   "source": [
    "# Typically save a variable with a file path\n",
    "my_file = \"coding.txt\"\n",
    "\n",
    "# Can open and read like so\n",
    "file_handle = open(my_file)\n",
    "file_contents = file_handle.read()\n",
    "print(file_contents)\n",
    "\n",
    "# Make sure to close the file handle!\n",
    "file_handle.close()\n",
    "\n",
    "# Instead of having to manually close the file, I typically use the \"with open\"\n",
    "# syntax to open files. This automatically closes the file after it's parsed\n",
    "with open(my_file) as infile:\n",
    "    contents = infile.read()\n",
    "print(contents)\n",
    "\n",
    "# You can write things to files as well - you need to use open(file_name, \"w\") \n",
    "# Note that what we did earlier, open(file), is equivelent to open(file, \"r\") (e.g.\n",
    "# \"r\" is the default argument.)\n",
    "message = \"sos\"\n",
    "output_file = \"send_help.txt\"\n",
    "with open(output_file, \"w\") as outfile:\n",
    "    outfile.write(message)"
   ]
  },
  {
   "attachments": {},
   "cell_type": "markdown",
   "metadata": {},
   "source": [
    "# Splitting genomic DNA"
   ]
  },
  {
   "attachments": {},
   "cell_type": "markdown",
   "metadata": {},
   "source": [
    "From Chapter 2, last problem\n"
   ]
  },
  {
   "cell_type": "code",
   "execution_count": 5,
   "metadata": {},
   "outputs": [],
   "source": [
    "\n",
    "problem4_dna_sequence = \"ATCGATCGATCGATCGACTGACTAGTCATAGCTATGCATGTAGCTACTCGATCGATCGATCGATCGATCGATCGATCGATCGATCATGCTATCATCGATCGATATCGATGCATCGACTACTAT\"\n",
    "first_exon_end_character = 63\n",
    "second_exon_start_character = 91\n",
    "\n",
    "# First, we need to adjust the positions. The 63rd character is index 62, and the 91st\n",
    "# character is index 90. Sorry.\n",
    "first_exon_end = 62\n",
    "second_exon_start = 90\n",
    "\n",
    "first_exon = problem4_dna_sequence[:first_exon_end]\n",
    "second_exon = problem4_dna_sequence[second_exon_start:]\n",
    "\n",
    "coding_sequence = first_exon + second_exon\n",
    "intron = problem4_dna_sequence[first_exon_end:second_exon_start]\n"
   ]
  },
  {
   "cell_type": "code",
   "execution_count": 6,
   "metadata": {},
   "outputs": [],
   "source": [
    "intron_output_file = \"intron.txt\"\n",
    "coding_output_file = \"coding.txt\"\n",
    "\n",
    "\n",
    "\n",
    "with open(coding_output_file, \"w\") as outfile:\n",
    "    outfile.write(coding_sequence)\n",
    "\n",
    "\n",
    "with open(intron_output_file, \"w\") as outfile:\n",
    "    outfile.write(intron)\n"
   ]
  },
  {
   "attachments": {},
   "cell_type": "markdown",
   "metadata": {},
   "source": [
    "# Write fasta"
   ]
  },
  {
   "cell_type": "code",
   "execution_count": 16,
   "metadata": {},
   "outputs": [],
   "source": [
    "outfile = \"sequences.fasta\"\n",
    "\n",
    "header_1 = \"ABC123\"\n",
    "seq_1 = \"ATCGTACGATCGATCGATCGCTAGACGTATCG\"\n",
    "\n",
    "header_2 = \"DEF456\"\n",
    "seq_2 = \"actgatcgacgatcgatcgatcacgact\"\n",
    "\n",
    "header_3 = \"HIJ789\"\n",
    "seq_3 = \"ACTGAC-ACTGT--ACTGTA----CATGTG\"\n",
    "\n",
    "# Format the sequences\n",
    "seq_1 = seq_1.upper().replace(\"-\", \"\")\n",
    "seq_2 = seq_2.upper().replace(\"-\", \"\")\n",
    "seq_3 = seq_3.upper().replace(\"-\", \"\")\n",
    "\n",
    "# prepare entries for each\n",
    "fasta1 = \">\" + header_1 + \"\\n\" + seq_1 + \"\\n\"\n",
    "fasta2 = \">\" + header_2 + \"\\n\" + seq_2 + \"\\n\"\n",
    "fasta3 = \">\" + header_3 + \"\\n\" + seq_3 + \"\\n\"\n",
    "\n",
    "with open(outfile, \"w\") as outfile:\n",
    "    outfile.write(fasta1)\n",
    "    outfile.write(fasta2)\n",
    "    outfile.write(fasta3)\n",
    "\n",
    "\n",
    "# Keep in mind - typically you'd make a function to do processing that you repeat over\n",
    "# and over again.\n"
   ]
  },
  {
   "attachments": {},
   "cell_type": "markdown",
   "metadata": {},
   "source": [
    "# Multiple fastas"
   ]
  },
  {
   "cell_type": "code",
   "execution_count": 17,
   "metadata": {},
   "outputs": [],
   "source": [
    "outfile_path1 = header_1 + \".fasta\"\n",
    "outfile_path2 = header_2 + \".fasta\"\n",
    "outfile_path3 = header_3 + \".fasta\"\n",
    "\n",
    "with open(outfile_path1, \"w\") as outfile:\n",
    "    outfile.write(fasta1)\n",
    "with open(outfile_path2, \"w\") as outfile:\n",
    "    outfile.write(fasta2)\n",
    "with open(outfile_path3, \"w\") as outfile:\n",
    "    outfile.write(fasta3)"
   ]
  },
  {
   "attachments": {},
   "cell_type": "markdown",
   "metadata": {},
   "source": [
    "# What I'd ACTUALLY do"
   ]
  },
  {
   "cell_type": "code",
   "execution_count": 19,
   "metadata": {},
   "outputs": [],
   "source": [
    "sequences = dict()\n",
    "\n",
    "# create a dictionary to hold the sequence information\n",
    "sequences = {\n",
    "    header_1: seq_1,\n",
    "    header_2: seq_2,\n",
    "    header_3: seq_3\n",
    "}\n",
    "\n",
    "# Loop over the contents of the dictionary\n",
    "for header, seq in sequences.items():\n",
    "    seq = seq.upper().replace(\"-\", \"\")\n",
    "    out_contents = \">\" + header + \"\\n\" + seq + \"\\n\"\n",
    "    outfile = header + \".fasta\"\n",
    "\n",
    "    with open(outfile, \"w\") as outfile:\n",
    "        outfile.write(out_contents)\n",
    "\n",
    "\n"
   ]
  },
  {
   "cell_type": "code",
   "execution_count": null,
   "metadata": {},
   "outputs": [],
   "source": []
  }
 ],
 "metadata": {
  "kernelspec": {
   "display_name": "SAT",
   "language": "python",
   "name": "python3"
  },
  "language_info": {
   "codemirror_mode": {
    "name": "ipython",
    "version": 3
   },
   "file_extension": ".py",
   "mimetype": "text/x-python",
   "name": "python",
   "nbconvert_exporter": "python",
   "pygments_lexer": "ipython3",
   "version": "3.10.5"
  },
  "orig_nbformat": 4
 },
 "nbformat": 4,
 "nbformat_minor": 2
}
