{
 "cells": [
  {
   "attachments": {},
   "cell_type": "markdown",
   "metadata": {},
   "source": [
    "# Data types"
   ]
  },
  {
   "cell_type": "code",
   "execution_count": 3,
   "metadata": {},
   "outputs": [
    {
     "data": {
      "text/plain": [
       "1.23442432"
      ]
     },
     "execution_count": 3,
     "metadata": {},
     "output_type": "execute_result"
    }
   ],
   "source": [
    "# string\n",
    "\"hello world\"\n",
    "\n",
    "# another string\n",
    "\"ACTGATCGATTACGTATAGTATTTGCTATCATACATATATATCGATGCGTTCAT\"\n",
    "\n",
    "# int\n",
    "1\n",
    "\n",
    "# float\n",
    "1.23442432"
   ]
  },
  {
   "attachments": {},
   "cell_type": "markdown",
   "metadata": {},
   "source": [
    "# Making variables"
   ]
  },
  {
   "cell_type": "code",
   "execution_count": 4,
   "metadata": {},
   "outputs": [
    {
     "name": "stdout",
     "output_type": "stream",
     "text": [
      "ACTGATCGATTACGTATAGTATTTGCTATCATACATATATATCGATGCGTTCAT\n"
     ]
    },
    {
     "data": {
      "text/plain": [
       "54"
      ]
     },
     "execution_count": 4,
     "metadata": {},
     "output_type": "execute_result"
    }
   ],
   "source": [
    "dna_sequence = \"ACTGATCGATTACGTATAGTATTTGCTATCATACATATATATCGATGCGTTCAT\"\n",
    "print(dna_sequence)\n",
    "len(dna_sequence)\n",
    "\n",
    "# note that dna_sequence is an informative name!"
   ]
  },
  {
   "attachments": {},
   "cell_type": "markdown",
   "metadata": {},
   "source": [
    "# Functions vs Methods"
   ]
  },
  {
   "cell_type": "code",
   "execution_count": 5,
   "metadata": {},
   "outputs": [
    {
     "name": "stdout",
     "output_type": "stream",
     "text": [
      "54\n"
     ]
    }
   ],
   "source": [
    "# Functions are defined externally, and not an implicit attribute of an object\n",
    "len(dna_sequence)\n",
    "# Here - len() is a function that finds the length of many types of objects.\n",
    "\n",
    "\n",
    "# Methods are specific to certain types of objects. Strings have some methods, lists have\n",
    "# some methods, etc. Something like .lower() and .upper() are methods.\n",
    "# Note that methods are called with a \".\" and then the method name. Methods are\n",
    "# simply functions that are defined within an object\n",
    "dna_sequence.lower()"
   ]
  },
  {
   "attachments": {},
   "cell_type": "markdown",
   "metadata": {},
   "source": [
    "# Subsetting strings, and indexing"
   ]
  },
  {
   "cell_type": "code",
   "execution_count": 47,
   "metadata": {},
   "outputs": [
    {
     "data": {
      "text/plain": [
       "'DE'"
      ]
     },
     "execution_count": 47,
     "metadata": {},
     "output_type": "execute_result"
    }
   ],
   "source": [
    "# Python is 0-indexed! So counting things starts at \"position\" 0. Sorry.\n",
    "# I kinda hate it, but it does make some things a little easier. \n",
    "\n",
    "# For subsetting strings, you can use your_string[start_index:end_index]. However, the start_index\n",
    "# is \"inclusive\" but the end_index is \"excluseive\" What do I mean?\n",
    "# The character at start_index is INCLUDED in the subset, but the character at \n",
    "# end_index is NOT included.\n",
    "\n",
    "my_string = \"ABCDEFGHI\" \n",
    "\n",
    "# Value: ABCDEFGHI\n",
    "# index: 012345678\n",
    "\n",
    "my_string[0:3] # ABC - includes characters with indexes 0, 1, and 2\n",
    "\n",
    "my_string[3:5] # DE - includes characters with indexes 3, 4 "
   ]
  },
  {
   "attachments": {},
   "cell_type": "markdown",
   "metadata": {},
   "source": [
    "# Problem 1 - Calculate AT content"
   ]
  },
  {
   "cell_type": "code",
   "execution_count": 9,
   "metadata": {},
   "outputs": [
    {
     "name": "stdout",
     "output_type": "stream",
     "text": [
      "0.6851851851851852\n"
     ]
    }
   ],
   "source": [
    "problem1_dna_sequence = \"ACTGATCGATTACGTATAGTATTTGCTATCATACATATATATCGATGCGTTCAT\"\n",
    "\n",
    "# first, count the number of A's and T's. Here, we're using the .count() method that\n",
    "# is part of every string.\n",
    "a_count = problem1_dna_sequence.count(\"A\")\n",
    "t_count = problem1_dna_sequence.count(\"T\")\n",
    "\n",
    "# Then, we need to count the total length of the dna\n",
    "total_dna_length = len(problem1_dna_sequence)\n",
    "\n",
    "# The AT content is simply the sum of a_count and t_count over total length.\n",
    "AT_content = (a_count + t_count)/total_dna_length\n",
    "print(AT_content)"
   ]
  },
  {
   "attachments": {},
   "cell_type": "markdown",
   "metadata": {},
   "source": [
    "# Complementing DNA"
   ]
  },
  {
   "cell_type": "code",
   "execution_count": 16,
   "metadata": {},
   "outputs": [
    {
     "data": {
      "text/plain": [
       "'TGACTAGCTAATGCATATCATAAACGATAGTATGTATATATAGCTACGCAAGTA'"
      ]
     },
     "execution_count": 16,
     "metadata": {},
     "output_type": "execute_result"
    }
   ],
   "source": [
    "problem2_dna_sequence = \"ACTGATCGATTACGTATAGTATTTGCTATCATACATATATATCGATGCGTTCAT\"\n",
    "\n",
    "# To complement, we want to replace all A's with T's, all T's with A's, etc.\n",
    "# You might think we should replace all As first, then replace all Ts, etc... \n",
    "# but then, you could end up changing all of the T's back to A's! \n",
    "\n",
    "# To get around this problem, we can make use of the fact that the case (uppercase vs \n",
    "# lowercase) matters. When we do each replacement, the replacement will be lowercase.\n",
    "\n",
    "problem2_dna_sequence = problem2_dna_sequence.replace(\"A\", \"t\")\n",
    "problem2_dna_sequence = problem2_dna_sequence.replace(\"T\", \"a\")\n",
    "problem2_dna_sequence = problem2_dna_sequence.replace(\"C\", \"g\")\n",
    "problem2_dna_sequence = problem2_dna_sequence.replace(\"G\", \"c\")\n",
    "problem2_dna_sequence = problem2_dna_sequence.upper()\n",
    "problem2_dna_sequence"
   ]
  },
  {
   "attachments": {},
   "cell_type": "markdown",
   "metadata": {},
   "source": [
    "# Restriction fragment lengths"
   ]
  },
  {
   "cell_type": "code",
   "execution_count": 27,
   "metadata": {},
   "outputs": [
    {
     "data": {
      "text/plain": [
       "33"
      ]
     },
     "execution_count": 27,
     "metadata": {},
     "output_type": "execute_result"
    }
   ],
   "source": [
    "problem3_dna_sequence = \"ACTGATCGATTACGTATAGTAGAATTCTATCATACATATATATCGATGCGTTCAT\"\n",
    "cut_site = \"GAATTC\"\n",
    "\n",
    "# We can use the sting's .find() method to find the cut site\n",
    "cut_position = problem3_dna_sequence.find(cut_site)\n",
    "cut_position\n",
    "\n",
    "# This gives the number 21... how does this work?\n",
    "#           1         2         3         4         5\n",
    "# 0123456789012345678901234567890123456789012345678901234   - remember: 0 indexing! I hate it too\n",
    "# ACTGATCGATTACGTATAGTAGAATTCTATCATACATATATATCGATGCGTTCAT\n",
    "#                      ^\n",
    "\n",
    "# So, 21 is the index position of the \"G\" in GAATTC. However, the cut happens after\n",
    "# the G. So the real cut_position is\n",
    "cut_position = problem3_dna_sequence.find(cut_site) + 1\n",
    "\n",
    "# So, the first fragment is \n",
    "frag1 = problem3_dna_sequence[:cut_position]\n",
    "# with a length of\n",
    "len(frag1) # 22\n",
    "\n",
    "# And the second fragment is \n",
    "frag2 = problem3_dna_sequence[cut_position:]\n",
    "len(frag2) # 33\n"
   ]
  },
  {
   "attachments": {},
   "cell_type": "markdown",
   "metadata": {},
   "source": [
    "# Splice out the intron - part 1 - extract the coding region"
   ]
  },
  {
   "cell_type": "code",
   "execution_count": 31,
   "metadata": {},
   "outputs": [
    {
     "name": "stdout",
     "output_type": "stream",
     "text": [
      "ATCGATCGATCGATCGACTGACTAGTCATAGCTATGCATGTAGCTACTCGATCGATCGATCGATCATCGATCGATATCGATGCATCGACTACTAT\n"
     ]
    }
   ],
   "source": [
    "problem4_dna_sequence = \"ATCGATCGATCGATCGACTGACTAGTCATAGCTATGCATGTAGCTACTCGATCGATCGATCGATCGATCGATCGATCGATCGATCATGCTATCATCGATCGATATCGATGCATCGACTACTAT\"\n",
    "first_exon_end_character = 63\n",
    "second_exon_start_character = 91\n",
    "\n",
    "# First, we need to adjust the positions. The 63rd character is index 62, and the 91st\n",
    "# character is index 90. Sorry.\n",
    "first_exon_end = 62\n",
    "second_exon_start = 90\n",
    "\n",
    "first_exon = problem4_dna_sequence[:first_exon_end]\n",
    "second_exon = problem4_dna_sequence[second_exon_start:]\n",
    "\n",
    "coding_sequence = first_exon + second_exon\n",
    "print(coding_sequence)"
   ]
  },
  {
   "attachments": {},
   "cell_type": "markdown",
   "metadata": {},
   "source": [
    "# Splice out the intron - part 2 - get percentage of DNA that is coding"
   ]
  },
  {
   "cell_type": "code",
   "execution_count": 32,
   "metadata": {},
   "outputs": [
    {
     "name": "stdout",
     "output_type": "stream",
     "text": [
      "0.7723577235772358\n"
     ]
    }
   ],
   "source": [
    "# We can just count the number of nucleotides in the exons, and divde by total length\n",
    "exon_lengths = len(first_exon) + len(second_exon)\n",
    "total_length = len(problem4_dna_sequence)\n",
    "coding_percentage = exon_lengths/total_length\n",
    "print(coding_percentage)"
   ]
  },
  {
   "attachments": {},
   "cell_type": "markdown",
   "metadata": {},
   "source": [
    "# Splice out the intron - part 3 - write out coding DNA in uppercase, non-coding in lowercase"
   ]
  },
  {
   "cell_type": "code",
   "execution_count": 40,
   "metadata": {},
   "outputs": [
    {
     "name": "stdout",
     "output_type": "stream",
     "text": [
      "ATCGATCGATCGATCGACTGACTAGTCATAGCTATGCATGTAGCTACTCGATCGATCGATCGatcgatcgatcgatcgatcgatcatgctATCATCGATCGATATCGATGCATCGACTACTAT\n",
      "We got it right!\n"
     ]
    }
   ],
   "source": [
    "# Here, we need to also use subsetting to get the intron string\n",
    "intron = problem4_dna_sequence[first_exon_end:second_exon_start]\n",
    "\n",
    "# So, the answer is...\n",
    "answer = first_exon + intron.lower() + second_exon\n",
    "print(answer)\n",
    "\n",
    "# Sanity check! Lets make sure the answer is the same length as the input sequence\n",
    "if len(answer) == len(problem4_dna_sequence):\n",
    "    print(\"We got it right!\")"
   ]
  }
 ],
 "metadata": {
  "kernelspec": {
   "display_name": "Python 3",
   "language": "python",
   "name": "python3"
  },
  "language_info": {
   "codemirror_mode": {
    "name": "ipython",
    "version": 3
   },
   "file_extension": ".py",
   "mimetype": "text/x-python",
   "name": "python",
   "nbconvert_exporter": "python",
   "pygments_lexer": "ipython3",
   "version": "3.10.5"
  },
  "orig_nbformat": 4
 },
 "nbformat": 4,
 "nbformat_minor": 2
}
